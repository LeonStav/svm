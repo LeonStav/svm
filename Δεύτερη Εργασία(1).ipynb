{
 "cells": [
  {
   "cell_type": "code",
   "execution_count": 2,
   "id": "7b032f5a",
   "metadata": {},
   "outputs": [
    {
     "name": "stdout",
     "output_type": "stream",
     "text": [
      "2.7.0\n"
     ]
    }
   ],
   "source": [
    "#Ολές οι βιβλιοθήκες που χρησιμοποιήσαμε στον παρακάτω κώδικα\n",
    "from scipy.stats import mode\n",
    "import numpy as np\n",
    "from time import time\n",
    "import pandas as pd\n",
    "import os\n",
    "import matplotlib.pyplot as plt\n",
    "import matplotlib\n",
    "%matplotlib inline\n",
    "import random\n",
    "from IPython.display import display, HTML\n",
    "from itertools import chain\n",
    "from sklearn.metrics import confusion_matrix\n",
    "from sklearn.metrics import accuracy_score\n",
    "import seaborn as sb\n",
    "from sklearn.preprocessing import StandardScaler\n",
    "from sklearn.pipeline import Pipeline\n",
    "from sklearn.model_selection import ParameterGrid\n",
    "from sklearn.model_selection import GridSearchCV\n",
    "from sklearn.svm import SVC, LinearSVC\n",
    "import warnings\n",
    "warnings.filterwarnings('ignore')\n",
    "import keras\n",
    "import tensorflow as tf\n",
    "print(tf.__version__)"
   ]
  },
  {
   "cell_type": "code",
   "execution_count": 3,
   "id": "6b7a1aa1",
   "metadata": {},
   "outputs": [],
   "source": [
    "#Φορτώνουμε το αρχείο MNIST απο τα dataset του keras tensorflow\n",
    "(train_images, train_labels), (test_images, test_labels) = tf.keras.datasets.mnist.load_data()"
   ]
  },
  {
   "cell_type": "code",
   "execution_count": 4,
   "id": "03b86e33",
   "metadata": {},
   "outputs": [
    {
     "data": {
      "image/png": "[encoded data removed]",
      "text/plain": [
       "<Figure size 432x288 with 1 Axes>"
      ]
     },
     "metadata": {
      "needs_background": "light"
     },
     "output_type": "display_data"
    }
   ],
   "source": [
    "#Μετράμε το συνολικό ανα αριθμό και τα οπτικοποιούμε\n",
    "sb.countplot(train_labels)\n",
    "plt.show()"
   ]
  },
  {
   "cell_type": "code",
   "execution_count": 5,
   "id": "7007bdae",
   "metadata": {},
   "outputs": [],
   "source": [
    "# Χρησιμοποιούμε το\n",
    "steps = [('scaler', StandardScaler()), ('SVM', SVC(kernel='poly'))]\n",
    "pipeline = Pipeline(steps) # define Pipeline object"
   ]
  },
  {
   "cell_type": "code",
   "execution_count": 5,
   "id": "60efc71f",
   "metadata": {},
   "outputs": [],
   "source": [
    "parameters = {'SVM__C':[0.001, 0.1, 100, 10e5], 'SVM__gamma':[10,1,0.1,0.01]}\n",
    "grid = GridSearchCV(pipeline, param_grid=parameters, cv=5)"
   ]
  },
  {
   "cell_type": "code",
   "execution_count": 7,
   "id": "45762928",
   "metadata": {},
   "outputs": [
    {
     "data": {
      "text/plain": [
       "(60000, 784)"
      ]
     },
     "execution_count": 7,
     "metadata": {},
     "output_type": "execute_result"
    }
   ],
   "source": [
    "#Μειώνω την διάσταση των numpyarray απο 3 σε 2, ουσιαστικά πολλαπλασιάζω τα pixel 28*28=784\n",
    "nsamples, nx, ny = train_images.shape\n",
    "train_images = train_images.reshape((nsamples,nx*ny))\n",
    "train_images.shape"
   ]
  },
  {
   "cell_type": "code",
   "execution_count": 8,
   "id": "2f1ed8ce",
   "metadata": {},
   "outputs": [
    {
     "data": {
      "text/plain": [
       "(10000, 784)"
      ]
     },
     "execution_count": 8,
     "metadata": {},
     "output_type": "execute_result"
    }
   ],
   "source": [
    "#Μειώνω την διάσταση των numpyarray απο 3 σε 2, ουσιαστικά πολλαπλασιάζω τα pixel 28*28=784\n",
    "msamples, mx, my = test_images.shape\n",
    "test_images = test_images.reshape((msamples,mx*my))\n",
    "test_images.shape"
   ]
  },
  {
   "cell_type": "code",
   "execution_count": 9,
   "id": "5ed700dc",
   "metadata": {},
   "outputs": [
    {
     "name": "stdout",
     "output_type": "stream",
     "text": [
      "score = 0.98\n",
      "best parameters from train data:  {'SVM__C': 0.001, 'SVM__gamma': 10}\n"
     ]
    }
   ],
   "source": [
    "grid.fit(train_images, train_labels)\n",
    "print (\"score = %3.2f\" %(grid.score(test_images, test_labels)))\n",
    "print (\"best parameters from train data: \", grid.best_params_)"
   ]
  },
  {
   "cell_type": "code",
   "execution_count": 18,
   "id": "ec7cb65c",
   "metadata": {},
   "outputs": [],
   "source": [
    "labels_pred = grid.predict(test_images)"
   ]
  },
  {
   "cell_type": "code",
   "execution_count": 19,
   "id": "c087d9e5",
   "metadata": {},
   "outputs": [
    {
     "name": "stdout",
     "output_type": "stream",
     "text": [
      "[6 0 5 4 9]\n"
     ]
    }
   ],
   "source": [
    "print (labels_pred[100:105])"
   ]
  },
  {
   "cell_type": "code",
   "execution_count": 20,
   "id": "506eb3fa",
   "metadata": {},
   "outputs": [
    {
     "name": "stdout",
     "output_type": "stream",
     "text": [
      "[6 0 5 4 9]\n"
     ]
    }
   ],
   "source": [
    "print (test_labels[100:105])"
   ]
  },
  {
   "cell_type": "code",
   "execution_count": 83,
   "id": "4226ad77",
   "metadata": {},
   "outputs": [
    {
     "data": {
      "image/png": "[encoded data removed]",
      "text/plain": [
       "<Figure size 432x288 with 1 Axes>"
      ]
     },
     "metadata": {
      "needs_background": "light"
     },
     "output_type": "display_data"
    },
    {
     "name": "stdout",
     "output_type": "stream",
     "text": [
      "it is an odd number\n"
     ]
    }
   ],
   "source": [
    "for i in (np.random.randint(0,10000,1)):\n",
    " two_d = (np.reshape(test_images[i], (28, 28)) * 255).astype(np.uint8)\n",
    " plt.title('predicted label: {0}'. format(labels_pred[i]))\n",
    " plt.imshow(two_d, interpolation='nearest', cmap='gray')\n",
    " plt.show()\n",
    " if labels_pred[i] == [1]:\n",
    "    print('it is an odd number')\n",
    " elif labels_pred[i] == [3]:\n",
    "    print('it is an odd number')\n",
    " elif labels_pred[i] == [5]:\n",
    "    print('it is an odd number')\n",
    " elif labels_pred[i] == [7]:\n",
    "    print('it is an odd number')\n",
    " elif labels_pred[i] == [9]:\n",
    "    print('it is an odd number')\n",
    " else:\n",
    "    print('it is an even number');"
   ]
  },
  {
   "cell_type": "code",
   "execution_count": 100,
   "id": "c49398e9",
   "metadata": {},
   "outputs": [
    {
     "name": "stdout",
     "output_type": "stream",
     "text": [
      "confusion matrix: \n",
      "  [[ 970    0    1    1    0    1    4    1    2    0]\n",
      " [   0 1130    2    0    1    0    1    0    1    0]\n",
      " [   5    0 1009    1    2    0    1    6    8    0]\n",
      " [   0    0    2  992    1    3    2    3    6    1]\n",
      " [   1    0    3    0  966    0    2    1    2    7]\n",
      " [   2    1    2    7    1  866    6    0    5    2]\n",
      " [   2    3    1    1    5    6  936    0    4    0]\n",
      " [   0    2   10    2    4    1    0  996    2   11]\n",
      " [   2    0    4    3    2    5    0    3  949    6]\n",
      " [   1    3    1    6   10    5    1    6    7  969]]\n"
     ]
    }
   ],
   "source": [
    "print(\"confusion matrix: \\n \", confusion_matrix(test_labels, labels_pred));"
   ]
  },
  {
   "cell_type": "code",
   "execution_count": 110,
   "id": "fc5f3f11",
   "metadata": {},
   "outputs": [
    {
     "data": {
      "text/plain": [
       "0.9783"
      ]
     },
     "execution_count": 110,
     "metadata": {},
     "output_type": "execute_result"
    }
   ],
   "source": [
    "accuracy_score(test_labels, labels_pred)"
   ]
  },
  {
   "cell_type": "code",
   "execution_count": 128,
   "id": "fc902781",
   "metadata": {},
   "outputs": [
    {
     "data": {
      "image/png": "[encoded data removed]",
      "text/plain": [
       "<Figure size 720x432 with 2 Axes>"
      ]
     },
     "metadata": {
      "needs_background": "light"
     },
     "output_type": "display_data"
    }
   ],
   "source": [
    "cm = confusion_matrix(test_labels, labels_pred)\n",
    "plt.subplots(figsize=(10, 6))\n",
    "sb.heatmap(cm, annot = True, fmt = 'g')\n",
    "plt.xlabel(\"Predicted\")\n",
    "plt.ylabel(\"Actual\")\n",
    "plt.title(\"Confusion Matrix\")\n",
    "plt.show()"
   ]
  },
  {
   "cell_type": "code",
   "execution_count": null,
   "id": "194372d5",
   "metadata": {},
   "outputs": [],
   "source": [
    "#Running Linear SVC for multiple cost factor(s) C\n",
    "acc = []\n",
    "acc_tr = []\n",
    "coefficient = []\n",
    "for c in [0.0001,0.001,0.01,0.1,1,10,100,1000,10000]:\n",
    "    svm = LinearSVC(dual=False, C=c)\n",
    "    svm.fit(train_images, train_labels)\n",
    "    coef = svm.coef_\n",
    "    \n",
    "    p_tr = svm.predict(train_images)\n",
    "    a_tr = accuracy_score(train_labels, p_tr)\n",
    "    \n",
    "    pred = svm.predict(test_images)\n",
    "    a = accuracy_score(test_labels, pred)\n",
    "    \n",
    "    coefficient.append(coef)\n",
    "    acc_tr.append(a_tr)\n",
    "    acc.append(a)"
   ]
  },
  {
   "cell_type": "code",
   "execution_count": null,
   "id": "ceb53fd4",
   "metadata": {},
   "outputs": [],
   "source": []
  }
 ],
 "metadata": {
  "kernelspec": {
   "display_name": "Python 3 (ipykernel)",
   "language": "python",
   "name": "python3"
  },
  "language_info": {
   "codemirror_mode": {
    "name": "ipython",
    "version": 3
   },
   "file_extension": ".py",
   "mimetype": "text/x-python",
   "name": "python",
   "nbconvert_exporter": "python",
   "pygments_lexer": "ipython3",
   "version": "3.8.12"
  }
 },
 "nbformat": 4,
 "nbformat_minor": 5
}
